{
  "nbformat": 4,
  "nbformat_minor": 0,
  "metadata": {
    "colab": {
      "provenance": [],
      "toc_visible": true,
      "collapsed_sections": []
    },
    "kernelspec": {
      "name": "python3",
      "display_name": "Python 3"
    },
    "language_info": {
      "name": "python"
    }
  },
  "cells": [
    {
      "cell_type": "markdown",
      "source": [
        "# Hello World를 출력하는 프로그램을 작성하시오."
      ],
      "metadata": {
        "id": "6BdSbWs-JfXq"
      }
    },
    {
      "cell_type": "code",
      "execution_count": null,
      "metadata": {
        "id": "MAJP7viXJV_-"
      },
      "outputs": [],
      "source": []
    },
    {
      "cell_type": "markdown",
      "source": [
        "# 데이터 분석 시작"
      ],
      "metadata": {
        "id": "vxchkF6vxJpg"
      }
    },
    {
      "cell_type": "markdown",
      "source": [
        "## 파일 불러오기"
      ],
      "metadata": {
        "id": "Zw3d90KMxNJc"
      }
    },
    {
      "cell_type": "markdown",
      "source": [
        "### 파일 불러오기 예시"
      ],
      "metadata": {
        "id": "mFEyusLu0TFL"
      }
    },
    {
      "cell_type": "code",
      "source": [
        "절차 : 열기(open()) --> 작업 --> 닫기(close())\n",
        "# 파일 객체 = open(파일 이름, 파일 열기 모드)   $ r : 읽기모드, w : 쓰기모드, a : 새로운 내용 추가\n",
        "# open한 파일로 작업 ...\n",
        "# f.close()  # 파일 닫기"
      ],
      "metadata": {
        "id": "1XBpRwcnyxrS"
      },
      "execution_count": null,
      "outputs": []
    },
    {
      "cell_type": "code",
      "source": [
        "# 파일 쓰기 예시\n",
        "f = open(\"/content/1501.txt\", 'w')  # 쓰기모드 w\n",
        "\n",
        "for i in range(10):\n",
        "    print(\"Hello\")         # 화면에 출력\n",
        "    f.write(\"Hello\\n\")     # 파일에 쓰기\n",
        "\n",
        "f.close()"
      ],
      "metadata": {
        "id": "tS5AV1pFUxPO"
      },
      "execution_count": null,
      "outputs": []
    },
    {
      "cell_type": "code",
      "source": [
        "# 파일 읽기 예시\n",
        "f = open(\"/content/1501.txt\", 'r')  # 읽기모드 r\n",
        "\n",
        "for i in range(10):\n",
        "    line = f.readline()    # f 파일객체에서 한줄 불러오기\n",
        "    print(line)\n",
        "\n",
        "f.close()"
      ],
      "metadata": {
        "id": "yL3IEqK0U-2e"
      },
      "execution_count": null,
      "outputs": []
    },
    {
      "cell_type": "markdown",
      "source": [
        "### 분석할 데이터 파일 불러오기(dataset.csv)"
      ],
      "metadata": {
        "id": "TBmOoRtv0cGd"
      }
    },
    {
      "cell_type": "code",
      "source": [
        "# 최초 10줄 불러와 보기\n",
        "f = open(\"/content/dataset.csv\", 'r')\n",
        "\n",
        "line = f.readline()\n",
        "print(line)\n",
        "\n",
        "f.close()"
      ],
      "metadata": {
        "id": "E5Fn8D66zN7b"
      },
      "execution_count": null,
      "outputs": []
    },
    {
      "cell_type": "code",
      "source": [
        "import csv\n",
        "\n",
        "f = open(\"/content/dataset.csv\", 'r')\n",
        "reader = csv.reader(f, delimiter=',')  # \",\"문자로 각 데이터를 분리\n",
        "\n",
        "for i in range(10) :\n",
        "  line = next(reader)  # 한줄읽어 1차원 리스트형으로 리턴\n",
        "  print(line)\n",
        "\n",
        "f.close()"
      ],
      "metadata": {
        "id": "P5upAuaEmzNn"
      },
      "execution_count": null,
      "outputs": []
    },
    {
      "cell_type": "code",
      "source": [
        "import csv\n",
        "\n",
        "f = open(\"/content/dataset.csv\", 'r')\n",
        "reader = csv.reader(f, delimiter=',')  # \",\"문자로 각 데이터를 분리\n",
        "\n",
        "print(reader)\n",
        "\n",
        "f.close()"
      ],
      "metadata": {
        "id": "VtK8iuV5-7n5"
      },
      "execution_count": null,
      "outputs": []
    },
    {
      "cell_type": "code",
      "source": [
        "# 2차원 리스트로 형변환\n",
        "import csv\n",
        "\n",
        "f = open(\"/content/dataset.csv\", 'r')\n",
        "reader = csv.reader(f, delimiter=',')\n",
        "\n",
        "L = list(reader)  # 리스트로 형변환\n",
        "\n",
        "print(L)      # 모든 리스트 출력\n",
        "print(len(L)) # 총 40832개의 행이 존재함.\n",
        "\n",
        "f.close()"
      ],
      "metadata": {
        "id": "5IE26l8FnLIx"
      },
      "execution_count": null,
      "outputs": []
    },
    {
      "cell_type": "code",
      "source": [
        "import csv\n",
        "\n",
        "f = open(\"/content/dataset.csv\", 'r')\n",
        "reader = csv.reader(f, delimiter=',')\n",
        "\n",
        "L = list(reader)  # 리스트로 형변환\n",
        "\n",
        "for i in range(10) :\n",
        "  print(L[i])\n",
        "\n",
        "f.close()"
      ],
      "metadata": {
        "id": "UlUuK-JKouVv"
      },
      "execution_count": null,
      "outputs": []
    },
    {
      "cell_type": "code",
      "source": [
        "# 최초 10개의 최고기온만 출력\n",
        "import csv\n",
        "\n",
        "f = open(\"/content/dataset.csv\", 'r')\n",
        "reader = csv.reader(f, delimiter=',')\n",
        "\n",
        "L = list(reader)  # 리스트로 형변환\n",
        "\n",
        "for i in range(10) :\n",
        "  print(L[i][4])\n",
        "\n",
        "f.close()"
      ],
      "metadata": {
        "id": "brcSffCNrZnn"
      },
      "execution_count": null,
      "outputs": []
    },
    {
      "cell_type": "code",
      "source": [
        "# 최초 10개의 최고온도 중 가장 높았던 온도는?\n",
        "import csv\n",
        "\n",
        "f = open(\"/content/dataset.csv\", 'r')\n",
        "reader = csv.reader(f, delimiter=',')\n",
        "\n",
        "L = list(reader)  # 리스트로 형변환\n",
        "\n",
        "max = 0\n",
        "for i in range(1, 11) :\n",
        "  if max < float(L[i][4]) :\n",
        "    max = float(L[i][4])\n",
        "\n",
        "print(max)\n",
        "\n",
        "f.close()"
      ],
      "metadata": {
        "id": "0-Vj3UWtsqnS"
      },
      "execution_count": null,
      "outputs": []
    },
    {
      "cell_type": "code",
      "source": [
        "# 역대 가장 최고기온은?\n",
        "import csv\n",
        "\n",
        "f = open(\"/content/dataset.csv\", 'r')\n",
        "reader = csv.reader(f, delimiter=',')\n",
        "\n",
        "L = list(reader)  # 리스트로 형변환\n",
        "\n",
        "max = 0\n",
        "for i in range(1, len(L)) :\n",
        "  if max < float(L[i][4]) :\n",
        "    max = float(L[i][4])\n",
        "\n",
        "print(max)\n",
        "\n",
        "f.close()"
      ],
      "metadata": {
        "id": "DanwN13UryLz"
      },
      "execution_count": null,
      "outputs": []
    },
    {
      "cell_type": "code",
      "source": [
        "# 각 년도별 연평균 기온은? \n",
        "import csv\n",
        "\n",
        "f = open(\"/content/dataset.csv\", 'r')\n",
        "reader = csv.reader(f, delimiter=',')\n",
        "\n",
        "L = list(reader)  # 리스트로 형변환\n",
        "\n",
        "############################### 년월일 분리하기\n",
        "print(y, m, d)\n",
        "\n",
        "for i in range(1, len(L)) :\n",
        "  if y != \n",
        "\n",
        "\n",
        "f.close()"
      ],
      "metadata": {
        "id": "ZkOiQrhwsFHt"
      },
      "execution_count": null,
      "outputs": []
    },
    {
      "cell_type": "markdown",
      "source": [
        "# 시각화"
      ],
      "metadata": {
        "id": "AxDVzeU2406e"
      }
    },
    {
      "cell_type": "markdown",
      "source": [
        "https://matplotlib.org/stable/index.html"
      ],
      "metadata": {
        "id": "bAwlluJXAL0D"
      }
    },
    {
      "cell_type": "code",
      "source": [
        "import matplotlib.pyplot as plt\n",
        "\n",
        "plt.plot([10, 20, 30, 40])\n",
        "plt.show()"
      ],
      "metadata": {
        "id": "5mRKtPka0gFA"
      },
      "execution_count": null,
      "outputs": []
    },
    {
      "cell_type": "code",
      "source": [
        "import matplotlib.pyplot as plt\n",
        "\n",
        "plt.plot([1, 2, 3, 4], [12, 43, 25, 15])\n",
        "plt.show()"
      ],
      "metadata": {
        "id": "8VbjzMRg4xi7"
      },
      "execution_count": null,
      "outputs": []
    },
    {
      "cell_type": "code",
      "source": [
        "import matplotlib.pyplot as plt\n",
        "\n",
        "plt.title('plotting')\n",
        "plt.plot([1, 2, 3, 4], [12, 43, 25, 15])\n",
        "plt.show()"
      ],
      "metadata": {
        "id": "CbkR-0t35GRL"
      },
      "execution_count": null,
      "outputs": []
    },
    {
      "cell_type": "code",
      "source": [
        "import matplotlib.pyplot as plt\n",
        "\n",
        "import matplotlib.pyplot as plt\n",
        "\n",
        "plt.title('plotting')\n",
        "plt.plot([1, 2, 3, 4], [10, 20, 30, 40], label='asc')\n",
        "plt.plot([1, 2, 3, 4], [40, 30, 20, 10], label='desc')\n",
        "plt.legend()  # 범례 표시\n",
        "plt.show()"
      ],
      "metadata": {
        "id": "o3MlYhwc5OiT"
      },
      "execution_count": null,
      "outputs": []
    },
    {
      "cell_type": "code",
      "source": [
        "import matplotlib.pyplot as plt\n",
        "\n",
        "plt.title('plotting')\n",
        "plt.plot([1, 2, 3, 4], [10, 20, 30, 40], label='asc', color='skyblue') #색깔 지정\n",
        "plt.plot([1, 2, 3, 4], [40, 30, 20, 10], label='desc', color='pink')\n",
        "plt.legend()  # 범례 표시\n",
        "plt.show()"
      ],
      "metadata": {
        "id": "d0kYMebI5hSS"
      },
      "execution_count": null,
      "outputs": []
    },
    {
      "cell_type": "code",
      "source": [
        "import matplotlib.pyplot as plt\n",
        "\n",
        "plt.title('marker')\n",
        "plt.plot([1, 2, 3, 4], [10, 20, 30, 40], 'r.', label='asc')\n",
        "plt.plot([1, 2, 3, 4], [40, 30, 20, 10], 'g^', label='desc')\n",
        "#plt.legend()  # 범례 표시\n",
        "plt.show()\n",
        "\n",
        "마커 종류 참조 : https://codetorial.net/matplotlib/set_marker.html"
      ],
      "metadata": {
        "id": "pWg5nIK_55eu"
      },
      "execution_count": null,
      "outputs": []
    },
    {
      "cell_type": "code",
      "source": [
        "# 년도별 크리스마스의 온도를 추출해 보기...\n",
        "# year_list=[1907, 1908, ... 2022]\n",
        "# temp_list = [10.]\n",
        "\n",
        "import csv\n",
        "\n",
        "f = open(\"/content/dataset.csv\", 'r')\n",
        "reader = csv.reader(f, delimiter=',')\n",
        "\n",
        "L = list(reader)  # 리스트로 형변환\n",
        "\n",
        "year_list = []\n",
        "temp_list = []\n",
        "\n",
        "##########################################\n",
        "\n",
        "\n",
        "\n",
        "\n",
        "\n",
        "\n",
        "print(year_list)\n",
        "print(temp_list)\n",
        "\n",
        "f.close()"
      ],
      "metadata": {
        "id": "Dr8QCJEX7I34"
      },
      "execution_count": null,
      "outputs": []
    },
    {
      "cell_type": "code",
      "source": [
        "# 년도별 크리스마스의 온도를 그래프로 표현해 보기\n",
        "# year_list=[1907, 1908, ... 2022]\n",
        "# temp_list = [10.]\n",
        "import csv\n",
        "\n",
        "f = open(\"/content/dataset.csv\", 'r')\n",
        "reader = csv.reader(f, delimiter=',')\n",
        "\n",
        "L = list(reader)  # 리스트로 형변환\n",
        "\n",
        "year_list = []\n",
        "temp_list = []\n",
        "\n",
        "###################################################\n",
        "\n",
        "\n",
        "\n",
        "\n",
        "\n",
        "\n",
        "\n",
        "\n",
        "\n",
        "\n",
        "f.close()"
      ],
      "metadata": {
        "id": "i5jrEDoM8IvO"
      },
      "execution_count": null,
      "outputs": []
    },
    {
      "cell_type": "markdown",
      "source": [],
      "metadata": {
        "id": "gpGVp23V7IkY"
      }
    },
    {
      "cell_type": "code",
      "source": [
        "# 각 년도별 연평균 기온은? \n",
        "# 먼저 년도 부분만 5번 열에 추가해 보자...\n",
        "import csv\n",
        "\n",
        "f = open(\"/content/dataset.csv\", 'r')\n",
        "reader = csv.reader(f, delimiter=',')\n",
        "\n",
        "L = list(reader)  # 리스트로 형변환\n",
        "\n",
        "####################################################\n",
        "\n",
        "\n",
        "for i in range(1, len(L)) :\n",
        "  print(L[i])\n",
        "\n",
        "\n",
        "f.close()"
      ],
      "metadata": {
        "id": "ZstC-Dc2wRPG"
      },
      "execution_count": null,
      "outputs": []
    },
    {
      "cell_type": "code",
      "source": [
        "# 각 년도별 연평균 기온은? \n",
        "# year_list=[1907, 1908, ... 2022]\n",
        "# temp_list = [18.]\n",
        "\n",
        "import csv\n",
        "\n",
        "f = open(\"/content/dataset.csv\", 'r')\n",
        "reader = csv.reader(f, delimiter=',')\n",
        "\n",
        "L = list(reader)  # 리스트로 형변환\n",
        "\n",
        "for i in range(1, len(L)) : \n",
        "  y, m, d = L[i][0].split('-')\n",
        "  L[i].append(y)              \n",
        "\n",
        "year_list = []\n",
        "temp_list = []\n",
        "\n",
        "\n",
        "\n",
        "print(year_list)\n",
        "print(temp_list)\n",
        "\n",
        "f.close()"
      ],
      "metadata": {
        "id": "mxXCdej5yt0b"
      },
      "execution_count": null,
      "outputs": []
    },
    {
      "cell_type": "code",
      "source": [
        "# 각 년도별 연평균 기온을 그래프로 표현해 보기...\n",
        "# year_list=[1907, 1908, ... 2022]\n",
        "# temp_list = [18.]\n",
        "\n",
        "import csv\n",
        "import matplotlib.pyplot as plt\n",
        "\n",
        "f = open(\"/content/dataset.csv\", 'r')\n",
        "reader = csv.reader(f, delimiter=',')\n",
        "\n",
        "L = list(reader)  # 리스트로 형변환\n",
        "\n",
        "for i in range(1, len(L)) : \n",
        "  y, m, d = L[i][0].split('-')  # <----?????????????????\n",
        "  L[i].append(y)                # <----?????????????????\n",
        "\n",
        "year_list = []\n",
        "temp_list = []\n",
        "\n",
        "sum = 0\n",
        "cnt = 0\n",
        "year = L[1][5]\n",
        "for i in range(1, len(L)) :\n",
        "  if year != L[i][5] :\n",
        "    year_list.append(year)\n",
        "    temp_list.append(sum/cnt)\n",
        "    sum = 0\n",
        "    cnt = 0\n",
        "    year = L[i][5]\n",
        "\n",
        "  sum = sum + float(L[i][2])\n",
        "  cnt = cnt + 1\n",
        "\n",
        "\n",
        "# 시각화\n",
        "plt.plot(year_list, temp_list, label='temp')\n",
        "plt.show()\n",
        "\n",
        "f.close()"
      ],
      "metadata": {
        "id": "nYOCwW596OxS"
      },
      "execution_count": null,
      "outputs": []
    },
    {
      "cell_type": "code",
      "source": [],
      "metadata": {
        "id": "OR19lwLW6uPb"
      },
      "execution_count": null,
      "outputs": []
    }
  ]
}